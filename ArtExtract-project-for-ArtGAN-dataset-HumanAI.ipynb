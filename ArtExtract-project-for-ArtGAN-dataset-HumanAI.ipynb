{
 "cells": [
  {
   "cell_type": "markdown",
   "id": "87c3fee9",
   "metadata": {},
   "source": [
    "# Dataset"
   ]
  },
  {
   "cell_type": "code",
   "execution_count": 3,
   "id": "8290b099",
   "metadata": {},
   "outputs": [
    {
     "name": "stdout",
     "output_type": "stream",
     "text": [
      "Files and directories in Argan Dataset:  ['Abstract_Expressionism', 'Action_painting', 'Analytical_Cubism', 'Art_Nouveau_Modern', 'Baroque', 'Color_Field_Painting', 'Contemporary_Realism', 'Expressionism', 'Fauvism', 'High_Renaissance', 'Impressionism', 'Mannerism_Late_Renaissance', 'Naive_Art_Primitivism', 'New_Realism', 'Northern_Renaissance', 'Pop_Art', 'Realism', 'Synthetic_Cubism']\n"
     ]
    }
   ],
   "source": [
    "import os\n",
    "\n",
    "dataset_path = r'D:\\ArtGan\\wikiart'\n",
    "dir_list = os.listdir(dataset_path)\n",
    "print('Files and directories in Argan Dataset: ', dir_list)"
   ]
  },
  {
   "cell_type": "code",
   "execution_count": 1,
   "id": "84490ea0",
   "metadata": {},
   "outputs": [],
   "source": [
    "import numpy as np\n",
    "import pandas as pd\n",
    "import matplotlib.pyplot as plt\n",
    "import cv2\n",
    "import os"
   ]
  },
  {
   "cell_type": "code",
   "execution_count": null,
   "id": "42c48041",
   "metadata": {},
   "outputs": [],
   "source": []
  }
 ],
 "metadata": {
  "kernelspec": {
   "display_name": "Python 3 (ipykernel)",
   "language": "python",
   "name": "python3"
  },
  "language_info": {
   "codemirror_mode": {
    "name": "ipython",
    "version": 3
   },
   "file_extension": ".py",
   "mimetype": "text/x-python",
   "name": "python",
   "nbconvert_exporter": "python",
   "pygments_lexer": "ipython3",
   "version": "3.10.9"
  }
 },
 "nbformat": 4,
 "nbformat_minor": 5
}
